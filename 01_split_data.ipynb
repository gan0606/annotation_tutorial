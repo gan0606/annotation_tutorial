{
 "cells": [
  {
   "cell_type": "markdown",
   "metadata": {},
   "source": [
    "### labelimgを使用してdata/imagesの画像データのannotation情報を作成してdata/labelsに保存した。\n",
    "* labelsの中に不要なclasses.txtがあったので削除した。"
   ]
  },
  {
   "cell_type": "code",
   "execution_count": 1,
   "metadata": {},
   "outputs": [],
   "source": [
    "import ultralytics\n",
    "from ultralytics import YOLO\n",
    "from IPython.display import Image\n",
    "import shutil\n",
    "import numpy as np\n",
    "import os"
   ]
  },
  {
   "cell_type": "code",
   "execution_count": 2,
   "metadata": {},
   "outputs": [],
   "source": [
    "# dataセットへのpath\n",
    "data_dir = \"data/\""
   ]
  },
  {
   "cell_type": "code",
   "execution_count": 19,
   "metadata": {},
   "outputs": [],
   "source": [
    "# 画像ファイルのパスとラベルファイルのパスを取得\n",
    "image_files = [os.path.join(data_dir, 'images', filename) for filename in os.listdir(os.path.join(data_dir, 'images')) if filename.endswith(\".jpg\")]\n",
    "label_files = [os.path.join(data_dir, 'labels', filename) for filename in os.listdir(os.path.join(data_dir, 'labels')) if filename.endswith(\".txt\")]"
   ]
  },
  {
   "cell_type": "code",
   "execution_count": 20,
   "metadata": {},
   "outputs": [
    {
     "data": {
      "text/plain": [
       "203"
      ]
     },
     "execution_count": 20,
     "metadata": {},
     "output_type": "execute_result"
    }
   ],
   "source": [
    "len(label_files)"
   ]
  },
  {
   "cell_type": "code",
   "execution_count": 21,
   "metadata": {},
   "outputs": [
    {
     "data": {
      "text/plain": [
       "203"
      ]
     },
     "execution_count": 21,
     "metadata": {},
     "output_type": "execute_result"
    }
   ],
   "source": [
    "len(image_files)"
   ]
  },
  {
   "cell_type": "code",
   "execution_count": 22,
   "metadata": {},
   "outputs": [],
   "source": [
    "# 画像ファイルとラベルファイルをペアにする\n",
    "data_pairs = list(zip(image_files, label_files))"
   ]
  },
  {
   "cell_type": "code",
   "execution_count": 23,
   "metadata": {},
   "outputs": [],
   "source": [
    "# モデルに偏りがないようにshuffleする\n",
    "np.random.shuffle(data_pairs)"
   ]
  },
  {
   "cell_type": "code",
   "execution_count": 25,
   "metadata": {},
   "outputs": [
    {
     "name": "stdout",
     "output_type": "stream",
     "text": [
      "142\n",
      "61\n"
     ]
    }
   ],
   "source": [
    "# 訓練データと検証データの分割率を指定\n",
    "# 全体の70%を訓練データとする\n",
    "train_ratio = 0.7\n",
    "\n",
    "# 訓練データと検証データの個数\n",
    "train_num = int(len(data_pairs) * train_ratio)\n",
    "print(train_num)\n",
    "val_num = len(data_pairs) - train_num\n",
    "print(val_num)\n",
    "\n",
    "# 訓練データと検証データのリストを作成\n",
    "train_data_pairs_list = data_pairs[:train_num]\n",
    "val_data_pairs = data_pairs[train_num:]"
   ]
  },
  {
   "cell_type": "code",
   "execution_count": 26,
   "metadata": {},
   "outputs": [
    {
     "name": "stdout",
     "output_type": "stream",
     "text": [
      "12\n",
      "49\n"
     ]
    }
   ],
   "source": [
    "# 検証データの20％をテストデータとする\n",
    "test_ratio = 0.2\n",
    "\n",
    "# 検証データとテストデータの個数\n",
    "test_num = int(len(val_data_pairs) * test_ratio)\n",
    "print(test_num)\n",
    "val_num = len(val_data_pairs) - test_num\n",
    "print(val_num)\n",
    "\n",
    "# 検証データとテストデータのリストを作成\n",
    "val_data_pairs_list = val_data_pairs[:val_num]\n",
    "test_data_pairs_list = val_data_pairs[val_num:]"
   ]
  },
  {
   "cell_type": "code",
   "execution_count": 29,
   "metadata": {},
   "outputs": [
    {
     "data": {
      "text/plain": [
       "142"
      ]
     },
     "execution_count": 29,
     "metadata": {},
     "output_type": "execute_result"
    }
   ],
   "source": [
    "len(train_data_pairs_list)"
   ]
  },
  {
   "cell_type": "code",
   "execution_count": 30,
   "metadata": {},
   "outputs": [
    {
     "data": {
      "text/plain": [
       "49"
      ]
     },
     "execution_count": 30,
     "metadata": {},
     "output_type": "execute_result"
    }
   ],
   "source": [
    "len(val_data_pairs_list)"
   ]
  },
  {
   "cell_type": "code",
   "execution_count": 31,
   "metadata": {},
   "outputs": [
    {
     "data": {
      "text/plain": [
       "12"
      ]
     },
     "execution_count": 31,
     "metadata": {},
     "output_type": "execute_result"
    }
   ],
   "source": [
    "len(test_data_pairs_list)"
   ]
  },
  {
   "cell_type": "code",
   "execution_count": 38,
   "metadata": {},
   "outputs": [],
   "source": [
    "# 訓練データのリストを保存\n",
    "with open(\"train_image_paths.txt\", \"w\") as f:\n",
    "    for image_path, _ in train_data_pairs_list:\n",
    "        f.write(image_path + \"\\n\")\n",
    "\n",
    "with open(\"train_label_paths.txt\", \"w\") as f:\n",
    "    for _, label_path in train_data_pairs_list:\n",
    "        f.write(label_path + \"\\n\")\n",
    "\n",
    "# 検証データのリストを保存\n",
    "with open(\"val_image_paths.txt\", \"w\") as f:\n",
    "    for image_path, _ in val_data_pairs_list:\n",
    "        f.write(image_path + \"\\n\")\n",
    "\n",
    "with open(\"val_label_paths.txt\", \"w\") as f:\n",
    "    for _, label_path in val_data_pairs_list:\n",
    "        f.write(label_path + \"\\n\")\n",
    "\n",
    "# テストデータのリストを保存\n",
    "with open(\"test_image_paths.txt\", \"w\") as f:\n",
    "    for image_path, _ in test_data_pairs_list:\n",
    "        f.write(image_path + \"\\n\")\n",
    "\n",
    "with open(\"test_label_paths.txt\", \"w\") as f:\n",
    "    for _, label_path in test_data_pairs_list:\n",
    "        f.write(label_path + \"\\n\")"
   ]
  },
  {
   "cell_type": "code",
   "execution_count": 33,
   "metadata": {},
   "outputs": [],
   "source": [
    "# 訓練データの画像パスリストを読み込み\n",
    "with open(\"train_image_paths.txt\", \"r\") as f:\n",
    "    train_image_paths = [line.strip() for line in f]\n",
    "\n",
    "# 訓練データのラベルパスリストを読み込み\n",
    "with open(\"train_label_paths.txt\", \"r\") as f:\n",
    "    train_label_paths = [line.strip() for line in f]\n",
    "\n",
    "# 検証データの画像パスリストを読み込み\n",
    "with open(\"val_image_paths.txt\", \"r\") as f:\n",
    "    val_image_paths = [line.strip() for line in f]\n",
    "\n",
    "# 検証データのラベルパスリストを読み込み\n",
    "with open(\"val_label_paths.txt\", \"r\") as f:\n",
    "    val_label_paths = [line.strip() for line in f]\n",
    "\n",
    "# テストデータの画像パスリストを読み込み\n",
    "with open(\"test_image_paths.txt\", \"r\") as f:\n",
    "    test_image_paths = [line.strip() for line in f]\n",
    "\n",
    "# 検証データのラベルパスリストを読み込み\n",
    "with open(\"test_label_paths.txt\", \"r\") as f:\n",
    "    test_label_paths = [line.strip() for line in f]"
   ]
  },
  {
   "cell_type": "code",
   "execution_count": 39,
   "metadata": {},
   "outputs": [],
   "source": [
    "# 訓練データディレクトリを作成\n",
    "os.makedirs(\"after_split/train/images\", exist_ok=True)\n",
    "os.makedirs(\"after_split/train/labels\", exist_ok=True)\n",
    "\n",
    "# 検証データディレクトリを作成\n",
    "os.makedirs(\"after_split/val/images\", exist_ok=True)\n",
    "os.makedirs(\"after_split/val/labels\", exist_ok=True)\n",
    "\n",
    "# テストデータディレクトリを作成\n",
    "os.makedirs(\"after_split/test/images\", exist_ok=True)\n",
    "os.makedirs(\"after_split/test/labels\", exist_ok=True)"
   ]
  },
  {
   "cell_type": "code",
   "execution_count": 40,
   "metadata": {},
   "outputs": [],
   "source": [
    "# 訓練データの配置\n",
    "for image_path, label_path in zip(train_image_paths, train_label_paths):\n",
    "    # 画像ファイルの移動\n",
    "    shutil.move(image_path, os.path.join(\"after_split/train/images\", os.path.basename(image_path)))\n",
    "\n",
    "    # ラベルファイルの移動\n",
    "    shutil.move(label_path, os.path.join(\"after_split/train/labels\", os.path.basename(label_path)))\n",
    "\n",
    "# 検証データの配置\n",
    "for image_path, label_path in zip(val_image_paths, val_label_paths):\n",
    "    # 画像ファイルの移動\n",
    "    shutil.move(image_path, os.path.join(\"after_split/val/images\", os.path.basename(image_path)))\n",
    "\n",
    "    # ラベルファイルの移動\n",
    "    shutil.move(label_path, os.path.join(\"after_split/val/labels\", os.path.basename(label_path)))\n",
    "\n",
    "# テストデータの配置\n",
    "for image_path, label_path in zip(test_image_paths, test_label_paths):\n",
    "    # 画像ファイルの移動\n",
    "    shutil.move(image_path, os.path.join(\"after_split/test/images\", os.path.basename(image_path)))\n",
    "\n",
    "    # ラベルファイルの移動\n",
    "    shutil.move(label_path, os.path.join(\"after_split/test/labels\", os.path.basename(label_path)))"
   ]
  },
  {
   "cell_type": "code",
   "execution_count": null,
   "metadata": {},
   "outputs": [],
   "source": []
  },
  {
   "cell_type": "code",
   "execution_count": null,
   "metadata": {},
   "outputs": [],
   "source": []
  },
  {
   "cell_type": "code",
   "execution_count": null,
   "metadata": {},
   "outputs": [],
   "source": []
  },
  {
   "cell_type": "code",
   "execution_count": null,
   "metadata": {},
   "outputs": [],
   "source": []
  },
  {
   "cell_type": "code",
   "execution_count": null,
   "metadata": {},
   "outputs": [],
   "source": []
  },
  {
   "cell_type": "code",
   "execution_count": null,
   "metadata": {},
   "outputs": [],
   "source": []
  },
  {
   "cell_type": "code",
   "execution_count": null,
   "metadata": {},
   "outputs": [],
   "source": []
  },
  {
   "cell_type": "code",
   "execution_count": null,
   "metadata": {},
   "outputs": [],
   "source": []
  }
 ],
 "metadata": {
  "kernelspec": {
   "display_name": "py310_yolov8",
   "language": "python",
   "name": "python3"
  },
  "language_info": {
   "codemirror_mode": {
    "name": "ipython",
    "version": 3
   },
   "file_extension": ".py",
   "mimetype": "text/x-python",
   "name": "python",
   "nbconvert_exporter": "python",
   "pygments_lexer": "ipython3",
   "version": "3.10.14"
  }
 },
 "nbformat": 4,
 "nbformat_minor": 2
}
